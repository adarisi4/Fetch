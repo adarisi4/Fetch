{
 "cells": [
  {
   "cell_type": "code",
   "execution_count": 6,
   "id": "485ff5ef",
   "metadata": {},
   "outputs": [],
   "source": [
    "import json\n",
    "import csv\n",
    "\n",
    "def escape_quotes_in_json(data):\n",
    "    return json.dumps(data).replace('\"', '\"\"')  # Escape all quotes by doubling them\n",
    "\n",
    "# Read the original CSV and write to a new CSV\n",
    "with open('anubhav_307.csv', 'r') as infile, open('anubhav_630.csv', 'w', newline='') as outfile:\n",
    "    reader = csv.reader(infile)\n",
    "    writer = csv.writer(outfile, quoting=csv.QUOTE_ALL)  # Quote all fields\n",
    "\n",
    "    for row in reader:\n",
    "        new_row = [escape_quotes_in_json(cell) if cell.startswith('{') else cell for cell in row]\n",
    "        writer.writerow(new_row)\n"
   ]
  },
  {
   "cell_type": "code",
   "execution_count": null,
   "id": "f1921f33",
   "metadata": {},
   "outputs": [],
   "source": []
  },
  {
   "cell_type": "code",
   "execution_count": null,
   "id": "fae6157c",
   "metadata": {},
   "outputs": [],
   "source": []
  }
 ],
 "metadata": {
  "kernelspec": {
   "display_name": "PythonData",
   "language": "python",
   "name": "pythondata"
  },
  "language_info": {
   "codemirror_mode": {
    "name": "ipython",
    "version": 3
   },
   "file_extension": ".py",
   "mimetype": "text/x-python",
   "name": "python",
   "nbconvert_exporter": "python",
   "pygments_lexer": "ipython3",
   "version": "3.8.8"
  }
 },
 "nbformat": 4,
 "nbformat_minor": 5
}
