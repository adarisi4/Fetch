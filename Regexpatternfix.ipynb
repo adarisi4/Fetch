{
 "cells": [
  {
   "cell_type": "code",
   "execution_count": 9,
   "id": "31680566",
   "metadata": {},
   "outputs": [
    {
     "name": "stdout",
     "output_type": "stream",
     "text": [
      "Data cleaned and saved to Receipts_ItemList.csv\n"
     ]
    }
   ],
   "source": [
    "import pandas as pd\n",
    "import re\n",
    "import json\n",
    "\n",
    "# Function to fix JSON-like strings while preserving apostrophes within words\n",
    "def fix_json_quotes(text):\n",
    "    if pd.isna(text) or not isinstance(text, str):\n",
    "        return text  # Return as-is if value is NaN or not a string\n",
    "\n",
    "    # Regex pattern to replace single quotes around keys/values but preserve apostrophes in words\n",
    "    pattern = r\"(?<!\\w)'|'(?!\\w)\"\n",
    "    fixed_text = re.sub(pattern, '\"', text)\n",
    "    \n",
    "    # Validate if the result is valid JSON\n",
    "    try:\n",
    "        json.loads(fixed_text)\n",
    "        return fixed_text  # Return corrected JSON string\n",
    "    except json.JSONDecodeError:\n",
    "        return text  # Return original if fixing failed\n",
    "\n",
    "# Read the CSV file\n",
    "input_csv_path = \"User_Receipts.csv\"\n",
    "df = pd.read_csv(input_csv_path)\n",
    "\n",
    "df.fillna('NULL', inplace=True) # Fill empty values with 'NULL'\n",
    "\n",
    "# Fix issues in 'rewardsReceiptItemList' column if it exists\n",
    "if 'rewardsReceiptItemList' in df.columns:\n",
    "    df['rewardsReceiptItemList'] = df['rewardsReceiptItemList'].apply(fix_json_quotes)\n",
    "\n",
    "# Save cleaned data to a new CSV file\n",
    "output_csv_path = \"Receipts_ItemList.csv\"\n",
    "df.to_csv(output_csv_path, index=False)\n",
    "\n",
    "print(f\"Data cleaned and saved to {output_csv_path}\")\n"
   ]
  },
  {
   "cell_type": "code",
   "execution_count": 10,
   "id": "d32ffdff",
   "metadata": {},
   "outputs": [
    {
     "name": "stdout",
     "output_type": "stream",
     "text": [
      "Data cleaned and saved to Receipts_List.csv\n"
     ]
    }
   ],
   "source": [
    "# Function to fix double quotes within words\n",
    "def fix_trapped_quotes(text):\n",
    "    if pd.isna(text) or not isinstance(text, str):\n",
    "        return text  # Return as-is if value is NaN or not a string\n",
    "\n",
    "    # Regex to find double quotes inside words (e.g., Annie\"s -> Annie's, John\"s -> John's)\n",
    "    fixed_text = re.sub(r'(\\w)\"(\\w)', r\"\\1'\\2\", text)\n",
    "    return fixed_text\n",
    "\n",
    "# Read the CSV file\n",
    "input_csv_path = \"Receipts_ItemList.csv\"\n",
    "df = pd.read_csv(input_csv_path)\n",
    "\n",
    "# Apply the fix to all string columns in the dataframe\n",
    "df = df.applymap(lambda x: fix_trapped_quotes(x) if isinstance(x, str) else x)\n",
    "\n",
    "# Save cleaned data to a new CSV file\n",
    "output_csv_path = \"Receipts_List.csv\"\n",
    "df.to_csv(output_csv_path, index=False)\n",
    "\n",
    "print(f\"Data cleaned and saved to {output_csv_path}\")\n"
   ]
  },
  {
   "cell_type": "code",
   "execution_count": 7,
   "id": "832fede5",
   "metadata": {},
   "outputs": [
    {
     "name": "stdout",
     "output_type": "stream",
     "text": [
      "Data cleaned and saved to Receipts_List.csv\n"
     ]
    }
   ],
   "source": [
    "import pandas as pd\n",
    "import re\n",
    "\n",
    "# Function to fix double quotes within words\n",
    "def fix_trapped_quotes(text):\n",
    "    if pd.isna(text):\n",
    "        return text  # Return as-is if the value is NaN (missing)\n",
    "    \n",
    "    if isinstance(text, float) or isinstance(text, int):\n",
    "        return text  # Return as-is if the value is a number\n",
    "\n",
    "    if not isinstance(text, str):\n",
    "        return str(text)  # Convert other types (like datetime) to string\n",
    "\n",
    "    # Regex to find double quotes inside words (e.g., Annie\"s -> Annie's, John\"s -> John's)\n",
    "    fixed_text = re.sub(r'(\\w)\"(\\w)', r\"\\1'\\2\", text)\n",
    "    return fixed_text\n",
    "\n",
    "# Read the CSV file\n",
    "input_csv_path = \"Receipts_ItemList.csv\"\n",
    "df = pd.read_csv(input_csv_path, dtype=str)  # Read everything as string to avoid parsing errors\n",
    "\n",
    "# Apply the fix to all string columns in the dataframe\n",
    "df = df.applymap(lambda x: fix_trapped_quotes(x))\n",
    "\n",
    "# Save cleaned data to a new CSV file\n",
    "output_csv_path = \"Receipts_List.csv\"\n",
    "df.to_csv(output_csv_path, index=False)\n",
    "\n",
    "print(f\"Data cleaned and saved to {output_csv_path}\")\n"
   ]
  },
  {
   "cell_type": "code",
   "execution_count": 8,
   "id": "56896914",
   "metadata": {},
   "outputs": [
    {
     "name": "stdout",
     "output_type": "stream",
     "text": [
      "Cleaned data saved to cleaned_Receipts_ItemList.csv\n"
     ]
    }
   ],
   "source": [
    "import pandas as pd\n",
    "import re\n",
    "import json\n",
    "\n",
    "# Function to fix JSON formatting issues\n",
    "def fix_json_quotes(text):\n",
    "    if pd.isna(text) or not isinstance(text, str):\n",
    "        return text  # Skip non-string values\n",
    "\n",
    "    # Ensure JSON keys/values have double quotes, replacing single quotes outside of words\n",
    "    text = re.sub(r\"(?<!\\w)'|'(?!\\w)\", '\"', text)\n",
    "\n",
    "    # Fix double quotes within words (e.g., Annie\"s -> Annie's)\n",
    "    text = re.sub(r'(\\w)\"(\\w)', r\"\\1'\\2\", text)\n",
    "\n",
    "    # Validate JSON format\n",
    "    try:\n",
    "        json.loads(text)  # Check if it's valid JSON\n",
    "        return text\n",
    "    except json.JSONDecodeError:\n",
    "        return None  # Mark invalid JSON for further review\n",
    "\n",
    "# Read the CSV file\n",
    "input_csv_path = \"Receipts_ItemList.csv\"\n",
    "df = pd.read_csv(input_csv_path, dtype=str)  # Read everything as string to prevent type issues\n",
    "\n",
    "# Apply the fix only to the 'rewardsReceiptItemList' column if it exists\n",
    "if 'rewardsReceiptItemList' in df.columns:\n",
    "    df['rewardsReceiptItemList'] = df['rewardsReceiptItemList'].apply(fix_json_quotes)\n",
    "\n",
    "# Remove rows with invalid JSON to avoid PostgreSQL errors\n",
    "df = df.dropna(subset=['rewardsReceiptItemList'])\n",
    "\n",
    "# Save cleaned data to a new CSV file\n",
    "output_csv_path = \"cleaned_Receipts_ItemList.csv\"\n",
    "df.to_csv(output_csv_path, index=False)\n",
    "\n",
    "print(f\"Cleaned data saved to {output_csv_path}\")\n"
   ]
  },
  {
   "cell_type": "code",
   "execution_count": null,
   "id": "47ea83e3",
   "metadata": {},
   "outputs": [],
   "source": []
  }
 ],
 "metadata": {
  "kernelspec": {
   "display_name": "PythonData",
   "language": "python",
   "name": "pythondata"
  },
  "language_info": {
   "codemirror_mode": {
    "name": "ipython",
    "version": 3
   },
   "file_extension": ".py",
   "mimetype": "text/x-python",
   "name": "python",
   "nbconvert_exporter": "python",
   "pygments_lexer": "ipython3",
   "version": "3.8.8"
  }
 },
 "nbformat": 4,
 "nbformat_minor": 5
}
